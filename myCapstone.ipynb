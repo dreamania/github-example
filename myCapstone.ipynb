#MY CAPSTONE PROJECT 
##2019-05-31
### @COURSERA.ORG  

### This is my code
import pandas as pd;  
import numpy as np;

print('Hello Capstone Project Course!');
